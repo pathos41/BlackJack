{
 "cells": [
  {
   "cell_type": "markdown",
   "metadata": {},
   "source": [
    "The BlackJack Game"
   ]
  },
  {
   "cell_type": "markdown",
   "metadata": {},
   "source": [
    "1. Use dictionary to define cards and their respective values for later use"
   ]
  },
  {
   "cell_type": "code",
   "execution_count": 1,
   "metadata": {},
   "outputs": [],
   "source": [
    "suits = ('Hearts', 'Diamonds', 'Spades', 'Clubs')\n",
    "ranks = ('Two', 'Three', 'Four', 'Five', 'Six', 'Seven', 'Eight', 'Nine', 'Ten', 'Jack', 'Queen', 'King', 'Ace')\n",
    "values = {'Two':2, 'Three':3, 'Four':4, 'Five':5, 'Six':6, 'Seven':7, 'Eight':8, 'Nine':9, 'Ten':10, 'Jack':10,\n",
    "         'Queen':10, 'King':10, 'Ace':11}"
   ]
  },
  {
   "cell_type": "markdown",
   "metadata": {},
   "source": [
    "2. Create a Card Class, a card object has two attributes: suit and rank"
   ]
  },
  {
   "cell_type": "code",
   "execution_count": 2,
   "metadata": {},
   "outputs": [],
   "source": [
    "class Card:\n",
    "    def __init__(self, suit, rank):\n",
    "        \n",
    "        self.suit = suit\n",
    "        self.rank = rank\n",
    "\n",
    "    def __str__(self):\n",
    "        return f'{self.rank} of {self.suit}'"
   ]
  },
  {
   "cell_type": "markdown",
   "metadata": {},
   "source": [
    "3. Create a Deck Class with all 52 cards, it can be shuffled and dealt to player or dealer"
   ]
  },
  {
   "cell_type": "code",
   "execution_count": 3,
   "metadata": {},
   "outputs": [],
   "source": [
    "class Deck:\n",
    "    \n",
    "    def __init__(self): \n",
    "        self.deck = []\n",
    "        # Get the deck of 52 cards\n",
    "        \n",
    "        for suit in suits:\n",
    "            for rank in ranks:\n",
    "                \n",
    "                self.deck.append(Card(suit, rank))\n",
    "    \n",
    "    def __str__(self):\n",
    "        result = ''\n",
    "        for item in self.deck:\n",
    "            \n",
    "            result += item.__str__() + '\\n'\n",
    "            \n",
    "        return f'The whole deck is: \\n{result}'\n",
    "\n",
    "    def shuffle(self):\n",
    "        # Shuffle the deck\n",
    "        random.shuffle(self.deck)\n",
    "        \n",
    "    def deal(self):\n",
    "        # Deal the card\n",
    "        return self.deck.pop()"
   ]
  },
  {
   "cell_type": "markdown",
   "metadata": {},
   "source": [
    "4. Create a Hand Class which represents the cards in hand for player and dealer, it can also adjust the value of the card 'Ace' when necessary"
   ]
  },
  {
   "cell_type": "code",
   "execution_count": 4,
   "metadata": {},
   "outputs": [],
   "source": [
    "class Hand:\n",
    "\n",
    "    def __init__(self):\n",
    "        self.cards = []  # start with an empty list as we did in the Deck class\n",
    "        self.value = 0   # start with zero value\n",
    "        self.aces = 0    # add an attribute to keep track of aces\n",
    "    \n",
    "    def add_card(self,card):\n",
    "        self.cards.append(card)\n",
    "        self.value += values[card.rank]\n",
    "        \n",
    "        # Check if any Ace in hand\n",
    "        if card.rank == 'Ace':\n",
    "            \n",
    "            self.aces = 1\n",
    "            \n",
    "        return self.value\n",
    "    \n",
    "    def adjust_for_ace(self):\n",
    "        # Adjust the value of 'Ace' when necessary\n",
    "        if self.aces and self.value > 21:\n",
    "            \n",
    "            self.value -= 10\n",
    "            self.aces = 0\n",
    "            \n",
    "        return self.value"
   ]
  },
  {
   "cell_type": "markdown",
   "metadata": {},
   "source": [
    "5. Create a Chips Class which contains two attributes: total and bet. It also defines two methods to use when player wins or loses"
   ]
  },
  {
   "cell_type": "code",
   "execution_count": 5,
   "metadata": {},
   "outputs": [],
   "source": [
    "class Chips:\n",
    "    \n",
    "    def __init__(self, total, bet):\n",
    "        self.total = total\n",
    "        self.bet = bet\n",
    "    \n",
    "    # If player wins\n",
    "    def win_bet(self):\n",
    "        self.total += self.bet\n",
    "        return self.total\n",
    "    \n",
    "    # If player loses\n",
    "    def lose_bet(self):\n",
    "        self.total -= self.bet\n",
    "        return self.total"
   ]
  },
  {
   "cell_type": "markdown",
   "metadata": {},
   "source": [
    "6. Function for taking bets from the player"
   ]
  },
  {
   "cell_type": "code",
   "execution_count": 6,
   "metadata": {},
   "outputs": [],
   "source": [
    "def take_bet(total):\n",
    "    \n",
    "    while True:\n",
    "        try:\n",
    "            bet = int(input('Please state your bet: '))\n",
    "            \n",
    "        except:\n",
    "            print('Wrong input, please try again!')\n",
    "            \n",
    "        else:\n",
    "            if bet > total:\n",
    "                print('Insufficient funds, please try again!')\n",
    "                \n",
    "            else:\n",
    "                return bet\n",
    "                break"
   ]
  },
  {
   "cell_type": "markdown",
   "metadata": {},
   "source": [
    "7. Draw a card from the deck and deal to player or dealer"
   ]
  },
  {
   "cell_type": "code",
   "execution_count": 7,
   "metadata": {},
   "outputs": [],
   "source": [
    "def hit(deck,hand):\n",
    "    \n",
    "    hand.add_card(deck.deal())\n",
    "    hand.adjust_for_ace()"
   ]
  },
  {
   "cell_type": "markdown",
   "metadata": {},
   "source": [
    "8. Ask the player if he/she wants to hit or stand for the next round"
   ]
  },
  {
   "cell_type": "code",
   "execution_count": 8,
   "metadata": {},
   "outputs": [],
   "source": [
    "def hit_or_stand(deck,hand):\n",
    "    global playing\n",
    "    \n",
    "    while playing:\n",
    "        message = input(\"\\nDo you want to hit? Enter 'h' for hit or 's' for stand: \")\n",
    "        \n",
    "        if message.lower() == 'h':\n",
    "            hit(deck,hand)\n",
    "            break\n",
    "            \n",
    "        elif message.lower() == 's':\n",
    "            playing = False\n",
    "            \n",
    "        else:\n",
    "            print('Wrong input please try again!')\n",
    "            continue"
   ]
  },
  {
   "cell_type": "markdown",
   "metadata": {},
   "source": [
    "9. Display the cards at hand in a designated format"
   ]
  },
  {
   "cell_type": "code",
   "execution_count": 9,
   "metadata": {},
   "outputs": [],
   "source": [
    "def show_some(player,dealer):\n",
    "    \n",
    "    print(f\"\\nThe dealer's second card is:\\n\\n{dealer.cards[1]}\\n\")\n",
    "    print(f\"The player's cards are: \\n\")\n",
    "    num_of_cards_player = len(player.cards)\n",
    "    count = 0\n",
    "    \n",
    "    while num_of_cards_player:\n",
    "        print(player.cards[count])\n",
    "        count += 1\n",
    "        num_of_cards_player -= 1\n",
    "        \n",
    "def show_all(player,dealer):\n",
    "    \n",
    "    num_of_cards_dealer = len(dealer.cards)\n",
    "    num_of_cards_player = len(player.cards)\n",
    "    count1 = 0\n",
    "    count2 = 0\n",
    "    \n",
    "    print(f\"\\nThe dealer's cards are: \\n\")    \n",
    "    while num_of_cards_dealer:\n",
    "        print(dealer.cards[count1])\n",
    "        count1 += 1\n",
    "        num_of_cards_dealer -= 1\n",
    "    print(f\"\\nThe total value of dealer's hand is: {dealer.value}\\n\")\n",
    "    \n",
    "    print(f\"\\nThe player's cards are: \\n\")\n",
    "    while num_of_cards_player:\n",
    "        print(player.cards[count2])\n",
    "        count2 += 1\n",
    "        num_of_cards_player -= 1\n",
    "    print(f\"\\nThe total value of player's hand is: {player.value}\\n\")"
   ]
  },
  {
   "cell_type": "markdown",
   "metadata": {},
   "source": [
    "10. Different game ending scenarios"
   ]
  },
  {
   "cell_type": "code",
   "execution_count": 10,
   "metadata": {},
   "outputs": [],
   "source": [
    "def player_busts(chips):\n",
    "    print('\\nPlayer busts!\\n')\n",
    "    my_chips.lose_bet()\n",
    "\n",
    "def player_wins(chips):\n",
    "    print('\\nPlayer wins!\\n')\n",
    "    my_chips.win_bet()\n",
    "\n",
    "def dealer_busts(chips):\n",
    "    print('\\nDealer busts!\\n')\n",
    "    my_chips.win_bet()\n",
    "    \n",
    "def dealer_wins(chips):\n",
    "    print('\\nDealer wins!\\n')\n",
    "    my_chips.lose_bet()\n",
    "    \n",
    "def push():\n",
    "    print('\\nIt is a draw!\\n')"
   ]
  },
  {
   "cell_type": "markdown",
   "metadata": {},
   "source": [
    "11. The framework of the BlackJack Game"
   ]
  },
  {
   "cell_type": "code",
   "execution_count": 11,
   "metadata": {},
   "outputs": [
    {
     "name": "stdout",
     "output_type": "stream",
     "text": [
      "\n",
      "You have a total of 0 chips left\n",
      "\n",
      "No more chips left, game over!\n"
     ]
    }
   ],
   "source": [
    "import random\n",
    "print('Welcome to the BlackJack Game!')\n",
    "total = int(input('Please enter the total amount of money you want to gamble with: '))\n",
    "# Set up the Player's chips\n",
    "my_chips = Chips(total, bet = 0)\n",
    "game_start = True\n",
    "\n",
    "while game_start:\n",
    "    print(f'\\nYou have a total of {my_chips.total} chips left\\n')\n",
    "    # Game Over\n",
    "    if my_chips.total <= 0:\n",
    "        print('No more chips left, game over!')\n",
    "        break\n",
    "    \n",
    "    # Create & shuffle the deck, deal two cards to each player\n",
    "    my_deck = Deck()\n",
    "    player = Hand()\n",
    "    dealer = Hand()\n",
    "    \n",
    "    for num in range(1,3):\n",
    "        my_deck.shuffle()\n",
    "        hit(my_deck,player)\n",
    "        \n",
    "    for num in range(1,3):\n",
    "        my_deck.shuffle()\n",
    "        hit(my_deck,dealer)\n",
    "    \n",
    "    # Prompt the Player for their bet\n",
    "    my_chips.bet = take_bet(my_chips.total)\n",
    "    \n",
    "    #----------------------------------------------------------------------------\n",
    "    playing = True\n",
    "    while playing:  # recall this variable from our hit_or_stand function\n",
    "        # Show cards (but keep one dealer card hidden)\n",
    "        show_some(player,dealer)\n",
    "        \n",
    "        # Prompt for Player to Hit or Stand\n",
    "        hit_or_stand(my_deck,player)\n",
    "\n",
    "        # If player's hand exceeds 21, break out of loop\n",
    "        if player.value > 21:\n",
    "            playing = False\n",
    "        else:\n",
    "            # If Player hasn't busted, play Dealer's hand until Dealer reaches 17\n",
    "            if dealer.value < 17:\n",
    "                my_deck.shuffle()\n",
    "                hit(my_deck,dealer)\n",
    "    #----------------------------------------------------------------------------\n",
    "    \n",
    "    # Show all cards\n",
    "    show_all(player,dealer)\n",
    "    # Run different winning scenarios\n",
    "    if player.value > 21:\n",
    "        player_busts(my_chips)\n",
    "    else:\n",
    "        if dealer.value > 21:\n",
    "            dealer_busts(my_chips)\n",
    "\n",
    "        else:\n",
    "            if dealer.value < player.value:\n",
    "                player_wins(my_chips)\n",
    "\n",
    "            elif dealer.value > player.value:\n",
    "                dealer_wins(my_chips)\n",
    "\n",
    "            else:\n",
    "                push()\n",
    "            \n",
    "    # Inform Player of their chips total \n",
    "    print(f'You have {my_chips.total} left in your chips')\n",
    "    \n",
    "    # Ask to play again\n",
    "    while True:\n",
    "        message = input('Do you want to play again? Yes/No: ')\n",
    "        if message.lower() == 'no':\n",
    "            print('Thanks for playing!')\n",
    "            game_start = False\n",
    "            break\n",
    "            \n",
    "        elif message.lower() == 'yes':\n",
    "            from IPython.display import clear_output\n",
    "            clear_output()\n",
    "            break\n",
    "\n",
    "        else:\n",
    "            print('Wrong answer please try again!')"
   ]
  },
  {
   "cell_type": "code",
   "execution_count": null,
   "metadata": {},
   "outputs": [],
   "source": []
  }
 ],
 "metadata": {
  "kernelspec": {
   "display_name": "Python 3",
   "language": "python",
   "name": "python3"
  },
  "language_info": {
   "codemirror_mode": {
    "name": "ipython",
    "version": 3
   },
   "file_extension": ".py",
   "mimetype": "text/x-python",
   "name": "python",
   "nbconvert_exporter": "python",
   "pygments_lexer": "ipython3",
   "version": "3.7.3"
  }
 },
 "nbformat": 4,
 "nbformat_minor": 2
}
